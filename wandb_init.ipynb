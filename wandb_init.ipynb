{
 "cells": [
  {
   "cell_type": "markdown",
   "id": "074830ef",
   "metadata": {
    "slideshow": {
     "slide_type": "slide"
    }
   },
   "source": [
    "## Tracking computational experiments with weights and biases\n",
    "___\n",
    "<img src=\"images/wandbdash.png\" alt=\"drawing\" width=\"1300\"/>\n",
    "\n",
    "Julius Polz\n",
    "___\n",
    "Karlsruhe Institute of Technology"
   ]
  },
  {
   "cell_type": "markdown",
   "id": "a44a539b",
   "metadata": {
    "slideshow": {
     "slide_type": "slide"
    }
   },
   "source": [
    "### 1 - Experiment tracking\n",
    "\n",
    "<img src=\"images/scheme1.png\" alt=\"drawing\" width=\"700\"/>\n",
    "\n",
    "What to track?"
   ]
  },
  {
   "cell_type": "markdown",
   "id": "058769b4",
   "metadata": {
    "slideshow": {
     "slide_type": "fragment"
    }
   },
   "source": [
    " * Scores\n",
    " * Parameters"
   ]
  },
  {
   "cell_type": "markdown",
   "id": "a389ba58",
   "metadata": {
    "slideshow": {
     "slide_type": "fragment"
    }
   },
   "source": [
    " * Time\n",
    " * Package versions\n",
    " * Code version (e.g. Git commit)"
   ]
  },
  {
   "cell_type": "markdown",
   "id": "f3728360",
   "metadata": {
    "slideshow": {
     "slide_type": "fragment"
    }
   },
   "source": [
    " * Power consumption\n",
    " * Computational resources\n",
    " * Hardware"
   ]
  },
  {
   "cell_type": "markdown",
   "id": "47f6cc9f",
   "metadata": {
    "slideshow": {
     "slide_type": "subslide"
    }
   },
   "source": [
    "<img src=\"images/nature2.png\" alt=\"drawing\" width=\"1100\"/>"
   ]
  },
  {
   "cell_type": "markdown",
   "id": "9ddc8ff7",
   "metadata": {
    "slideshow": {
     "slide_type": "subslide"
    }
   },
   "source": [
    "<img src=\"images/nature.png\" alt=\"drawing\" width=\"1100\"/>\n",
    "\n",
    "... Conclusion: There are significant effects of rounding errors "
   ]
  },
  {
   "cell_type": "markdown",
   "id": "7f815178",
   "metadata": {
    "slideshow": {
     "slide_type": "slide"
    }
   },
   "source": [
    "### 2 - Setup"
   ]
  },
  {
   "cell_type": "markdown",
   "id": "0918277d",
   "metadata": {},
   "source": [
    "```\n",
    "git clone https://github.com/jpolz/wandb_example.git\n",
    "cd wandb_example\n",
    "```\n",
    "\n",
    "conda/mamba installation assumed:\n",
    "\n",
    "```\n",
    "conda create env -f environment.yml\n",
    "conda activate wandb\n",
    "jupyter notebook\n",
    "```"
   ]
  },
  {
   "cell_type": "code",
   "execution_count": null,
   "id": "f1a93512",
   "metadata": {
    "slideshow": {
     "slide_type": "subslide"
    }
   },
   "outputs": [],
   "source": [
    "import wandb\n",
    "import numpy as np"
   ]
  },
  {
   "cell_type": "code",
   "execution_count": null,
   "id": "16414d17",
   "metadata": {
    "slideshow": {
     "slide_type": "fragment"
    }
   },
   "outputs": [],
   "source": [
    "! wandb login"
   ]
  },
  {
   "cell_type": "markdown",
   "id": "6c05ebcf",
   "metadata": {
    "slideshow": {
     "slide_type": "fragment"
    }
   },
   "source": [
    "--> get key from https://wandb.ai/settings --> API keys"
   ]
  },
  {
   "cell_type": "markdown",
   "id": "360a40f1",
   "metadata": {
    "slideshow": {
     "slide_type": "slide"
    }
   },
   "source": [
    "### 2 - Logging parameters and scores with weights and biases"
   ]
  },
  {
   "cell_type": "code",
   "execution_count": null,
   "id": "ff3b94c0",
   "metadata": {
    "slideshow": {
     "slide_type": "fragment"
    }
   },
   "outputs": [],
   "source": [
    "config = {'parameter_1':1,'parameter_2':1,'parameter_3':1,} # store parameters in a dictionary"
   ]
  },
  {
   "cell_type": "code",
   "execution_count": null,
   "id": "aaae27e7",
   "metadata": {
    "scrolled": true,
    "slideshow": {
     "slide_type": "fragment"
    }
   },
   "outputs": [],
   "source": [
    "run = wandb.init(project=\"my-test-project\", config=config) # <-- really good documentation\n",
    "print('hello world')\n",
    "print('parameter is '+str(run.config.parameter_1))\n",
    "# run\n",
    "# some\n",
    "# model\n",
    "run.log({'score':1})\n",
    "run.finish()"
   ]
  },
  {
   "cell_type": "code",
   "execution_count": null,
   "id": "3d408978",
   "metadata": {
    "scrolled": true,
    "slideshow": {
     "slide_type": "subslide"
    }
   },
   "outputs": [],
   "source": [
    "run = wandb.init(project=\"my-test-project\", config=config) \n",
    "print('parameter is '+str(run.config.parameter_1))\n",
    "for i in np.linspace(0,1,10):\n",
    "    # train/optimize some model\n",
    "    run.log({'score':i})\n",
    "run.finish()"
   ]
  },
  {
   "cell_type": "markdown",
   "id": "cebbf41e",
   "metadata": {
    "slideshow": {
     "slide_type": "slide"
    }
   },
   "source": [
    "### 3 - The experiment"
   ]
  },
  {
   "cell_type": "code",
   "execution_count": null,
   "id": "42d2564c",
   "metadata": {},
   "outputs": [],
   "source": [
    "from sklearn.datasets import make_moons # example data generator\n",
    "from sklearn.ensemble import RandomForestClassifier # example model\n",
    "from sklearn.model_selection import train_test_split # pre-processing"
   ]
  },
  {
   "cell_type": "code",
   "execution_count": null,
   "id": "97d606b5",
   "metadata": {},
   "outputs": [],
   "source": [
    "X, y = make_moons(n_samples=1000, noise=0.3, random_state=42) # generate example data\n",
    "X_train, X_test, y_train, y_test = train_test_split(X, y, test_size=0.4, random_state=42) # random train test split"
   ]
  },
  {
   "cell_type": "code",
   "execution_count": null,
   "id": "46386dc8",
   "metadata": {
    "slideshow": {
     "slide_type": "subslide"
    }
   },
   "outputs": [],
   "source": [
    "import matplotlib.pyplot as plt"
   ]
  },
  {
   "cell_type": "code",
   "execution_count": null,
   "id": "0c1d93ee",
   "metadata": {},
   "outputs": [],
   "source": [
    "fig, ax = plt.subplots(1,2, figsize=(14,7))\n",
    "ax[0].scatter(X_train[:, 0], X_train[:, 1], c=y_train, cmap='RdYlBu')\n",
    "ax[1].scatter(X_test[:, 0], X_test[:, 1], c=y_test, cmap='RdYlBu')\n",
    "ax[0].set_title('train')\n",
    "ax[1].set_title('test');"
   ]
  },
  {
   "cell_type": "code",
   "execution_count": null,
   "id": "be4ea73b",
   "metadata": {
    "slideshow": {
     "slide_type": "subslide"
    }
   },
   "outputs": [],
   "source": [
    "classifier = RandomForestClassifier(max_depth=5, n_estimators=10, max_features=1) # classifier with parameters"
   ]
  },
  {
   "cell_type": "code",
   "execution_count": null,
   "id": "9cb90c9b",
   "metadata": {
    "slideshow": {
     "slide_type": "fragment"
    }
   },
   "outputs": [],
   "source": [
    "classifier.fit(X_train, y_train) # the actual training --> further reading: https://en.wikipedia.org/wiki/Random_forest\n",
    "train_accuracy = classifier.score(X_train, y_train) # training score\n",
    "test_accuracy = classifier.score(X_test, y_test) # test score\n",
    "print(train_accuracy, test_accuracy)"
   ]
  },
  {
   "cell_type": "code",
   "execution_count": null,
   "id": "7db264cf",
   "metadata": {
    "slideshow": {
     "slide_type": "subslide"
    }
   },
   "outputs": [],
   "source": [
    "y_pred_train = classifier.predict(X_train) # predictions for training data\n",
    "y_pred_test = classifier.predict(X_test) # predictions for test data"
   ]
  },
  {
   "cell_type": "code",
   "execution_count": null,
   "id": "67147c9d",
   "metadata": {
    "scrolled": true
   },
   "outputs": [],
   "source": [
    "fig, ax = plt.subplots(1,2, figsize=(10,5))\n",
    "ax[0].scatter(X_train[:, 0], X_train[:, 1], c=y_pred_train, cmap='RdYlBu')\n",
    "ax[1].scatter(X_test[:, 0], X_test[:, 1], c=y_pred_test, cmap='RdYlBu')\n",
    "ax[0].set_title('train')\n",
    "ax[1].set_title('test');"
   ]
  },
  {
   "cell_type": "code",
   "execution_count": null,
   "id": "d7f8f8a5",
   "metadata": {
    "scrolled": true,
    "slideshow": {
     "slide_type": "subslide"
    }
   },
   "outputs": [],
   "source": [
    "fig, ax = plt.subplots(1,2, figsize=(10,5))\n",
    "ax[0].scatter(X_train[:, 0], X_train[:, 1], c=y_pred_train==y_train, cmap='RdYlGn')\n",
    "ax[1].scatter(X_test[:, 0], X_test[:, 1], c=y_pred_test==y_test, cmap='RdYlGn')\n",
    "ax[0].set_title('train')\n",
    "ax[1].set_title('test');"
   ]
  },
  {
   "cell_type": "code",
   "execution_count": null,
   "id": "64453a30",
   "metadata": {
    "slideshow": {
     "slide_type": "subslide"
    }
   },
   "outputs": [],
   "source": [
    "h = 0.02  # step size in the mesh\n",
    "x_min, x_max = X[:, 0].min() - 0.5, X[:, 0].max() + 0.5\n",
    "y_min, y_max = X[:, 1].min() - 0.5, X[:, 1].max() + 0.5\n",
    "xx, yy = np.meshgrid(np.arange(x_min, x_max, h), np.arange(y_min, y_max, h))\n",
    "Z = classifier.predict_proba(np.c_[xx.ravel(), yy.ravel()])[:, 1]\n",
    "# Put the result into a color plot\n",
    "Z = Z.reshape(xx.shape)"
   ]
  },
  {
   "cell_type": "code",
   "execution_count": null,
   "id": "32dd25aa",
   "metadata": {
    "scrolled": false
   },
   "outputs": [],
   "source": [
    "fig, ax = plt.subplots(1,2, figsize=(14,7))\n",
    "ax[0].scatter(X_train[:, 0], X_train[:, 1], c=y_train, cmap='RdBu') # true classes\n",
    "ax[1].scatter(X_test[:, 0], X_test[:, 1], c=y_test, cmap='RdBu') # true classes\n",
    "ax[0].set_title('train')\n",
    "ax[1].set_title('test');\n",
    "ax[0].contourf(xx, yy, Z, cmap='RdBu', alpha=0.5)\n",
    "ax[1].contourf(xx, yy, Z, cmap='RdBu', alpha=0.5);"
   ]
  },
  {
   "cell_type": "markdown",
   "id": "2e44fd4b",
   "metadata": {
    "slideshow": {
     "slide_type": "slide"
    }
   },
   "source": [
    "### 3 - Integrating W&B"
   ]
  },
  {
   "cell_type": "code",
   "execution_count": null,
   "id": "e2c4257b",
   "metadata": {
    "slideshow": {
     "slide_type": "fragment"
    }
   },
   "outputs": [],
   "source": [
    "classifier = RandomForestClassifier(max_depth=5, n_estimators=10, max_features=1)\n",
    "classifier.fit(X_train, y_train)\n",
    "train_accuracy = classifier.score(X_train, y_train)\n",
    "test_accuracy = classifier.score(X_test, y_test)\n",
    "print(train_accuracy, test_accuracy)"
   ]
  },
  {
   "cell_type": "code",
   "execution_count": null,
   "id": "512f045c",
   "metadata": {
    "slideshow": {
     "slide_type": "subslide"
    }
   },
   "outputs": [],
   "source": [
    "config = {'max_depth':5,'n_estimators':10,'max_features':1,}\n",
    "classifier = RandomForestClassifier(\n",
    "    max_depth=config['max_depth'], \n",
    "    n_estimators=config['n_estimators'], \n",
    "    max_features=config['max_features']\n",
    ")\n",
    "classifier.fit(X_train, y_train)\n",
    "train_accuracy = classifier.score(X_train, y_train)\n",
    "test_accuracy = classifier.score(X_test, y_test)\n",
    "print(train_accuracy, test_accuracy)"
   ]
  },
  {
   "cell_type": "code",
   "execution_count": null,
   "id": "99bd1fdf",
   "metadata": {
    "slideshow": {
     "slide_type": "subslide"
    }
   },
   "outputs": [],
   "source": [
    "config = {'max_depth':6,'n_estimators':5,'max_features':1,}\n",
    "run = wandb.init(project=\"my-test-rf\", config=config)               # changes!\n",
    "classifier = RandomForestClassifier(\n",
    "    max_depth=run.config.max_depth,                                 # changes!\n",
    "    n_estimators=run.config.n_estimators,                           # changes!\n",
    "    max_features=run.config.max_features                            # changes!\n",
    ")\n",
    "classifier.fit(X_train, y_train)\n",
    "train_accuracy = classifier.score(X_train, y_train)\n",
    "test_accuracy = classifier.score(X_test, y_test)\n",
    "run.log({                                                           # changes!\n",
    "    'train_accuracy':train_accuracy,\n",
    "    'test_accuracy':test_accuracy,\n",
    "})\n",
    "run.finish()                                                        # changes!"
   ]
  },
  {
   "cell_type": "markdown",
   "id": "166efafa",
   "metadata": {
    "slideshow": {
     "slide_type": "slide"
    }
   },
   "source": [
    "### 3 - Parameter sweeps"
   ]
  },
  {
   "cell_type": "markdown",
   "id": "3c9de141",
   "metadata": {},
   "source": [
    "Sweeps are used for parameter optimization"
   ]
  },
  {
   "cell_type": "code",
   "execution_count": null,
   "id": "ce20d54f",
   "metadata": {
    "slideshow": {
     "slide_type": "fragment"
    }
   },
   "outputs": [],
   "source": [
    "sweep_config = {\n",
    "    'method': 'random', #grid, random, bayes\n",
    "    'metric': {\n",
    "      'name': 'test_accuracy',\n",
    "      'goal': 'maximize'   \n",
    "    },\n",
    "    'parameters': {\n",
    "        'max_depth': {\n",
    "            'values': [3,4,5,6,7,8,9,10]\n",
    "        },\n",
    "        'n_estimators': {\n",
    "            'values': [1,2,3,4,5,6,7,8,9,10,15,20,25,50,100]\n",
    "        },\n",
    "        'max_features': {\n",
    "            'values': [1,2,3]\n",
    "        },\n",
    "        'min_impurity_decrease': {\n",
    "            'distribution': 'uniform',\n",
    "            'min': 0.0,\n",
    "            'max': 0.1\n",
    "        },\n",
    "    }\n",
    "}"
   ]
  },
  {
   "cell_type": "code",
   "execution_count": null,
   "id": "4e46c83f",
   "metadata": {
    "slideshow": {
     "slide_type": "subslide"
    }
   },
   "outputs": [],
   "source": [
    "def run_fct():\n",
    "    wandb.init()\n",
    "    classifier = RandomForestClassifier(\n",
    "        max_depth=wandb.config.max_depth,                               # using wandb.config instead of run.config\n",
    "        n_estimators=wandb.config.n_estimators,\n",
    "        max_features=wandb.config.max_features,\n",
    "        min_impurity_decrease=wandb.config.min_impurity_decrease        #!!!!!!! new parameter\n",
    "    )\n",
    "    classifier.fit(X_train, y_train)\n",
    "    train_accuracy = classifier.score(X_train, y_train)\n",
    "    test_accuracy = classifier.score(X_test, y_test)\n",
    "    wandb.log({\n",
    "        'train_accuracy':train_accuracy,\n",
    "        'test_accuracy':test_accuracy,\n",
    "    })\n",
    "    return None"
   ]
  },
  {
   "cell_type": "code",
   "execution_count": null,
   "id": "6833dd37",
   "metadata": {
    "scrolled": true,
    "slideshow": {
     "slide_type": "subslide"
    }
   },
   "outputs": [],
   "source": [
    "sweep_id = wandb.sweep(sweep_config, project=\"my-test-rf\")\n",
    "wandb.agent(sweep_id, run_fct)"
   ]
  },
  {
   "cell_type": "code",
   "execution_count": null,
   "id": "ae4b9c1d",
   "metadata": {
    "slideshow": {
     "slide_type": "subslide"
    }
   },
   "outputs": [],
   "source": [
    "sweep_config = {\n",
    "    'method': 'bayes', #grid, random, bayes\n",
    "    'metric': {\n",
    "      'name': 'test_accuracy',\n",
    "      'goal': 'maximize'   \n",
    "    },\n",
    "    'parameters': {\n",
    "        'max_depth': {\n",
    "            'values': [3,4,5,6,7,8,9,10]\n",
    "        },\n",
    "        'n_estimators': {\n",
    "            'values': [1,2,3,4,5,6,7,8,9,10,15,20,25,50,100]\n",
    "        },\n",
    "        'max_features': {\n",
    "            'values': [1,2,3]\n",
    "        },\n",
    "        'min_impurity_decrease': {\n",
    "            'distribution': 'uniform',\n",
    "            'min': 0.0,\n",
    "            'max': 0.1\n",
    "        },\n",
    "    }\n",
    "}"
   ]
  },
  {
   "cell_type": "code",
   "execution_count": null,
   "id": "c9b9155b",
   "metadata": {
    "scrolled": true,
    "slideshow": {
     "slide_type": "subslide"
    }
   },
   "outputs": [],
   "source": [
    "sweep_id = wandb.sweep(sweep_config, project=\"my-test-rf\")\n",
    "wandb.agent(sweep_id, run_fct)"
   ]
  },
  {
   "cell_type": "markdown",
   "id": "793dde14",
   "metadata": {
    "slideshow": {
     "slide_type": "slide"
    }
   },
   "source": [
    "### Conclusion: Why I use W&B\n",
    "\n",
    " * free for academia\n",
    " * easy to implement with few changes to code\n",
    " * tracks a lot of stuff\n",
    " * great visualization\n",
    " * convenient parameter optimization\n",
    " * you can also save and recover trained models"
   ]
  }
 ],
 "metadata": {
  "celltoolbar": "Slideshow",
  "kernelspec": {
   "display_name": "Python 3 (ipykernel)",
   "language": "python",
   "name": "python3"
  },
  "language_info": {
   "codemirror_mode": {
    "name": "ipython",
    "version": 3
   },
   "file_extension": ".py",
   "mimetype": "text/x-python",
   "name": "python",
   "nbconvert_exporter": "python",
   "pygments_lexer": "ipython3",
   "version": "3.9.9"
  }
 },
 "nbformat": 4,
 "nbformat_minor": 5
}
